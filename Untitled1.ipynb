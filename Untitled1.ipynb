{
  "nbformat": 4,
  "nbformat_minor": 0,
  "metadata": {
    "colab": {
      "name": "Untitled1.ipynb",
      "provenance": [],
      "collapsed_sections": [],
      "authorship_tag": "ABX9TyNlzTgUZYInZgfFE0GIucWL",
      "include_colab_link": true
    },
    "kernelspec": {
      "name": "python3",
      "display_name": "Python 3"
    },
    "language_info": {
      "name": "python"
    }
  },
  "cells": [
    {
      "cell_type": "markdown",
      "metadata": {
        "id": "view-in-github",
        "colab_type": "text"
      },
      "source": [
        "<a href=\"https://colab.research.google.com/github/harishhhhhh/colab/blob/main/Untitled1.ipynb\" target=\"_parent\"><img src=\"https://colab.research.google.com/assets/colab-badge.svg\" alt=\"Open In Colab\"/></a>"
      ]
    },
    {
      "cell_type": "code",
      "execution_count": null,
      "metadata": {
        "colab": {
          "base_uri": "https://localhost:8080/"
        },
        "id": "zoGXiIZc1rHA",
        "outputId": "9f9e6a8f-08c7-45d9-e46e-dfa34e507761"
      },
      "outputs": [
        {
          "output_type": "stream",
          "name": "stdout",
          "text": [
            "1000\n",
            "1040\n",
            "1080\n",
            "1120\n",
            "1160\n",
            "1200\n",
            "1240\n",
            "1280\n",
            "1320\n",
            "1360\n",
            "1400\n",
            "1440\n",
            "1480\n",
            "1520\n",
            "1560\n",
            "1600\n",
            "1640\n",
            "1680\n",
            "1720\n",
            "1760\n",
            "1800\n",
            "1840\n",
            "1880\n",
            "1920\n",
            "1960\n"
          ]
        }
      ],
      "source": [
        "for i in range(1000, 2000):\n",
        " if ((i%5==0) and (i%8==0)):\n",
        "   print(i)"
      ]
    },
    {
      "cell_type": "code",
      "source": [
        "import random\n",
        "condition=0;\n",
        "\n",
        "while(condition!=1) :\n",
        "  r1=random.randint(1,9)\n",
        "  print(r1)\n",
        "  r2=int(input())\n",
        "  if(int(r1)==int(r2)):\n",
        "    print('well guessed') \n",
        "    condition=1 "
      ],
      "metadata": {
        "colab": {
          "base_uri": "https://localhost:8080/"
        },
        "id": "WGJPymrq3Fsq",
        "outputId": "240de3de-8e12-44c7-dae9-d06833d5fc0f"
      },
      "execution_count": null,
      "outputs": [
        {
          "output_type": "stream",
          "name": "stdout",
          "text": [
            "3\n",
            "3\n",
            "well guessed\n"
          ]
        }
      ]
    },
    {
      "cell_type": "code",
      "source": [
        "a='*'\n",
        "for i in range(1,5):\n",
        "  print(a*int(i))\n",
        "  if(i==4): \n",
        "   for i in range(3,0,-1):\n",
        "       print(a*int(i))\n"
      ],
      "metadata": {
        "colab": {
          "base_uri": "https://localhost:8080/"
        },
        "id": "BmETTNCY48VE",
        "outputId": "f0189580-7036-41f9-c346-c5d0a3820a74"
      },
      "execution_count": null,
      "outputs": [
        {
          "output_type": "stream",
          "name": "stdout",
          "text": [
            "*\n",
            "**\n",
            "***\n",
            "****\n",
            "***\n",
            "**\n",
            "*\n"
          ]
        }
      ]
    },
    {
      "cell_type": "code",
      "source": [
        "word=input('enter the word')[::-1]\n",
        "print(word)\n"
      ],
      "metadata": {
        "colab": {
          "base_uri": "https://localhost:8080/"
        },
        "id": "QU8cTFUQ7ksr",
        "outputId": "7dd92c28-5f09-4875-f268-07375b9b3d56"
      },
      "execution_count": null,
      "outputs": [
        {
          "output_type": "stream",
          "name": "stdout",
          "text": [
            "enter the wordharish \n",
            " hsirah\n"
          ]
        }
      ]
    },
    {
      "cell_type": "code",
      "source": [
        "m=input()\n",
        "n=input()\n",
        "array=[]\n",
        "for i in range(0,int(m)):\n",
        "  for j in range(0,int(n)):\n",
        "    array.append(int(i*j))\n",
        "    print(array)\n",
        "\n",
        "\n"
      ],
      "metadata": {
        "id": "jNTGqnIE8geN"
      },
      "execution_count": null,
      "outputs": []
    },
    {
      "cell_type": "code",
      "source": [
        "word=input('enter the word')[::-1]\n",
        "print(word)\n"
      ],
      "metadata": {
        "colab": {
          "base_uri": "https://localhost:8080/"
        },
        "id": "7MAoyHaxyuYa",
        "outputId": "bc04264c-0436-473a-ff93-ce2fc462edbc"
      },
      "execution_count": 1,
      "outputs": [
        {
          "output_type": "stream",
          "name": "stdout",
          "text": [
            "enter the word srmist\n",
            "tsimrs \n"
          ]
        }
      ]
    },
    {
      "cell_type": "code",
      "source": [
        "a=input()\n",
        "b=input()\n",
        "  \n",
        "for idx in range(len(a)):\n",
        "        if a[idx: ] + a[ :idx] == b:\n",
        "           c='true'\n",
        "        else:\n",
        "           c='false'\n",
        "print(c)\n",
        "\n"
      ],
      "metadata": {
        "colab": {
          "base_uri": "https://localhost:8080/"
        },
        "id": "UoQlkKxj0Lgh",
        "outputId": "b6faecea-01be-428c-fb4d-83168b0f473f"
      },
      "execution_count": 34,
      "outputs": [
        {
          "output_type": "stream",
          "name": "stdout",
          "text": [
            "srmist\n",
            "tsrmis\n",
            "true\n"
          ]
        }
      ]
    },
    {
      "cell_type": "code",
      "source": [
        "import random\n",
        "num1=int(input())\n",
        "for i in range(num1):\n",
        "\n",
        "  num = (int)random.randint()\n",
        "print(num)\n"
      ],
      "metadata": {
        "colab": {
          "base_uri": "https://localhost:8080/",
          "height": 136
        },
        "id": "KZ2Zos8c3LMg",
        "outputId": "fb9c8a62-f1be-4036-a75e-dd924e928241"
      },
      "execution_count": 48,
      "outputs": [
        {
          "output_type": "error",
          "ename": "SyntaxError",
          "evalue": "ignored",
          "traceback": [
            "\u001b[0;36m  File \u001b[0;32m\"<ipython-input-48-04387cac3d8c>\"\u001b[0;36m, line \u001b[0;32m5\u001b[0m\n\u001b[0;31m    num = (int)random.randint()\u001b[0m\n\u001b[0m                    ^\u001b[0m\n\u001b[0;31mSyntaxError\u001b[0m\u001b[0;31m:\u001b[0m invalid syntax\n"
          ]
        }
      ]
    },
    {
      "cell_type": "code",
      "source": [
        ""
      ],
      "metadata": {
        "id": "KCfB7u0JBTT9"
      },
      "execution_count": null,
      "outputs": []
    },
    {
      "cell_type": "markdown",
      "source": [
        ""
      ],
      "metadata": {
        "id": "cmEAMko7yCzj"
      }
    }
  ]
}