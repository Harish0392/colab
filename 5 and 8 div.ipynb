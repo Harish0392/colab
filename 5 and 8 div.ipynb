{
  "nbformat": 4,
  "nbformat_minor": 0,
  "metadata": {
    "colab": {
      "name": "Untitled1.ipynb",
      "provenance": [],
      "authorship_tag": "ABX9TyOEvy3dywIAK7pypwlOIENB",
      "include_colab_link": true
    },
    "kernelspec": {
      "name": "python3",
      "display_name": "Python 3"
    },
    "language_info": {
      "name": "python"
    }
  },
  "cells": [
    {
      "cell_type": "markdown",
      "metadata": {
        "id": "view-in-github",
        "colab_type": "text"
      },
      "source": [
        "<a href=\"https://colab.research.google.com/github/harishhhhhh/colab/blob/main/5%20and%208%20div.ipynb\" target=\"_parent\"><img src=\"https://colab.research.google.com/assets/colab-badge.svg\" alt=\"Open In Colab\"/></a>"
      ]
    },
    {
      "cell_type": "code",
      "execution_count": 1,
      "metadata": {
        "colab": {
          "base_uri": "https://localhost:8080/"
        },
        "id": "zoGXiIZc1rHA",
        "outputId": "9f9e6a8f-08c7-45d9-e46e-dfa34e507761"
      },
      "outputs": [
        {
          "output_type": "stream",
          "name": "stdout",
          "text": [
            "1000\n",
            "1040\n",
            "1080\n",
            "1120\n",
            "1160\n",
            "1200\n",
            "1240\n",
            "1280\n",
            "1320\n",
            "1360\n",
            "1400\n",
            "1440\n",
            "1480\n",
            "1520\n",
            "1560\n",
            "1600\n",
            "1640\n",
            "1680\n",
            "1720\n",
            "1760\n",
            "1800\n",
            "1840\n",
            "1880\n",
            "1920\n",
            "1960\n"
          ]
        }
      ],
      "source": [
        "for i in range(1000, 2000):\n",
        " if ((i%5==0) and (i%8==0)):\n",
        "   print(i)"
      ]
    }
  ]
}