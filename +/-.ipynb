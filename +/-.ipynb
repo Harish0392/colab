{
  "nbformat": 4,
  "nbformat_minor": 0,
  "metadata": {
    "colab": {
      "name": "Untitled0.ipynb",
      "provenance": [],
      "authorship_tag": "ABX9TyPCeBzmMklVn6FzeH5tTrCq",
      "include_colab_link": true
    },
    "kernelspec": {
      "name": "python3",
      "display_name": "Python 3"
    },
    "language_info": {
      "name": "python"
    }
  },
  "cells": [
    {
      "cell_type": "markdown",
      "metadata": {
        "id": "view-in-github",
        "colab_type": "text"
      },
      "source": [
        "<a href=\"https://colab.research.google.com/github/harishhhhhh/colab/blob/main/%2B/-.ipynb\" target=\"_parent\"><img src=\"https://colab.research.google.com/assets/colab-badge.svg\" alt=\"Open In Colab\"/></a>"
      ]
    },
    {
      "cell_type": "code",
      "execution_count": 7,
      "metadata": {
        "colab": {
          "base_uri": "https://localhost:8080/"
        },
        "id": "sUCLuwvKzAQs",
        "outputId": "fc752164-50a9-4df8-d72b-82df173b5c09"
      },
      "outputs": [
        {
          "output_type": "stream",
          "name": "stdout",
          "text": [
            "enter the first number5\n",
            "+ve\n"
          ]
        }
      ],
      "source": [
        "num1 =input('enter the first number')\n",
        "if int(num1)>0 :\n",
        "  print ('+ve')\n",
        "else   :\n",
        "    print ('-ve')\n",
        "\n",
        "   \n",
        "\n"
      ]
    },
    {
      "cell_type": "code",
      "source": [
        ""
      ],
      "metadata": {
        "id": "OCZ7SMJv0jQ0"
      },
      "execution_count": null,
      "outputs": []
    }
  ]
}